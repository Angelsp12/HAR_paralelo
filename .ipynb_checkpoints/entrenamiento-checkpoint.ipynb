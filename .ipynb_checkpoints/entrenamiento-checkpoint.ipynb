{
 "cells": [
  {
   "cell_type": "code",
   "execution_count": 56,
   "id": "dfdc808c",
   "metadata": {},
   "outputs": [
    {
     "name": "stdout",
     "output_type": "stream",
     "text": [
      "Librerías importadas correctamente.\n"
     ]
    }
   ],
   "source": [
    "# Importación de librerías necesarias\n",
    "import pandas as pd\n",
    "import numpy as np\n",
    "import os\n",
    "import glob\n",
    "from scipy.fft import fft, fftfreq\n",
    "from scipy.stats import entropy, mode\n",
    "from sklearn.model_selection import train_test_split\n",
    "from sklearn.preprocessing import StandardScaler, LabelEncoder\n",
    "from sklearn.svm import SVC\n",
    "from sklearn.metrics import classification_report, accuracy_score, confusion_matrix\n",
    "import seaborn as sns\n",
    "import matplotlib.pyplot as plt\n",
    "import time\n",
    "from multiprocessing import Pool, cpu_count\n",
    "\n",
    "print(\"Librerías importadas correctamente.\")"
   ]
  },
  {
   "cell_type": "code",
   "execution_count": 57,
   "id": "9f94a068",
   "metadata": {},
   "outputs": [
    {
     "name": "stdout",
     "output_type": "stream",
     "text": [
      "Cargando y procesando archivo: Phones_accelerometer.csv...\n",
      "\n",
      "✅ Dataset completo cargado y limpiado exitosamente.\n",
      "<class 'pandas.core.frame.DataFrame'>\n",
      "RangeIndex: 11279275 entries, 0 to 11279274\n",
      "Data columns (total 11 columns):\n",
      " #   Column         Dtype  \n",
      "---  ------         -----  \n",
      " 0   Index          int64  \n",
      " 1   Arrival_Time   int64  \n",
      " 2   Creation_Time  int64  \n",
      " 3   x              float64\n",
      " 4   y              float64\n",
      " 5   z              float64\n",
      " 6   User           object \n",
      " 7   Model          object \n",
      " 8   Device         object \n",
      " 9   gt             object \n",
      " 10  sensor         object \n",
      "dtypes: float64(3), int64(3), object(5)\n",
      "memory usage: 946.6+ MB\n"
     ]
    }
   ],
   "source": [
    "# --- CONFIGURACIÓN: USAR SOLO Phones_accelerometer.csv COMPLETO ---\n",
    "hhar_files = [\n",
    "    'Phones_accelerometer.csv'\n",
    "]\n",
    "\n",
    "def load_full_hhar_data(file_list):\n",
    "    df_list = []\n",
    "    for file in file_list:\n",
    "        if os.path.exists(file):\n",
    "            print(f\"Cargando y procesando archivo: {file}...\")\n",
    "            temp_df = pd.read_csv(file, on_bad_lines='skip')\n",
    "            temp_df.dropna(subset=['gt', 'x', 'y', 'z'], inplace=True)\n",
    "            temp_df = temp_df[temp_df['gt'] != 'null']\n",
    "            temp_df['sensor'] = 'accelerometer'\n",
    "            df_list.append(temp_df)\n",
    "        else:\n",
    "            print(f\"⚠️ Advertencia: No se encontró el archivo '{file}'. Se omitirá.\")\n",
    "    if not df_list:\n",
    "        return pd.DataFrame()\n",
    "    return pd.concat(df_list, ignore_index=True)\n",
    "\n",
    "df = load_full_hhar_data(hhar_files)\n",
    "\n",
    "if not df.empty:\n",
    "    print(\"\\n✅ Dataset completo cargado y limpiado exitosamente.\")\n",
    "    df.info()"
   ]
  },
  {
   "cell_type": "code",
   "execution_count": 58,
   "id": "c5c61aa4",
   "metadata": {},
   "outputs": [
    {
     "name": "stdout",
     "output_type": "stream",
     "text": [
      "Actividades y sus códigos:\n",
      "{0: 'bike', 1: 'sit', 2: 'stairsdown', 3: 'stairsup', 4: 'stand', 5: 'walk'}\n",
      "\n",
      "Total de registros para el análisis: 11279275\n"
     ]
    }
   ],
   "source": [
    "le = LabelEncoder()\n",
    "df['activity_code'] = le.fit_transform(df['gt'])\n",
    "activity_labels = dict(zip(le.transform(le.classes_), le.classes_))\n",
    "df[['x', 'y', 'z']] = df[['x', 'y', 'z']].astype(np.float64)\n",
    "\n",
    "print(\"Actividades y sus códigos:\")\n",
    "print(activity_labels)\n",
    "print(f\"\\nTotal de registros para el análisis: {len(df)}\")"
   ]
  },
  {
   "cell_type": "code",
   "execution_count": 59,
   "id": "105c3f57",
   "metadata": {},
   "outputs": [
    {
     "name": "stdout",
     "output_type": "stream",
     "text": [
      "✅ Funciones de extracción de características (con Feature Engineering) definidas.\n"
     ]
    }
   ],
   "source": [
    "# --- Funciones para calcular características (Versión Mejorada) ---\n",
    "def calculate_sma(window):\n",
    "    return np.mean(np.abs(window['x']) + np.abs(window['y']) + np.abs(window['z']))\n",
    "\n",
    "def calculate_spectral_entropy(window):\n",
    "    entropy_val = 0\n",
    "    for axis in ['x', 'y', 'z']:\n",
    "        fft_vals = np.abs(fft(window[axis].values))\n",
    "        fft_power = fft_vals**2\n",
    "        if np.sum(fft_power) > 0:\n",
    "            power_dist = fft_power / np.sum(fft_power)\n",
    "            entropy_val += entropy(power_dist)\n",
    "    return entropy_val / 3\n",
    "\n",
    "def extract_features(window):\n",
    "    features = {}\n",
    "    for axis in ['x', 'y', 'z']:\n",
    "        features[f'mean_{axis}'] = window[axis].mean()\n",
    "        features[f'std_{axis}'] = window[axis].std()\n",
    "    features['corr_xy'] = window['x'].corr(window['y'])\n",
    "    features['corr_yz'] = window['y'].corr(window['z'])\n",
    "    features['corr_zx'] = window['z'].corr(window['x'])\n",
    "    features['sma'] = calculate_sma(window)\n",
    "    features['spectral_entropy'] = calculate_spectral_entropy(window)\n",
    "    for axis in ['x', 'y', 'z']:\n",
    "        features[f'jerk_mean_{axis}'] = np.mean(np.diff(window[axis], n=1))\n",
    "    fft_vals = np.abs(fft(window['x'].values + window['y'].values + window['z'].values))\n",
    "    fft_freq = fftfreq(len(window), 1/100)\n",
    "    dom_freq_idx = np.argmax(fft_vals[1:]) + 1\n",
    "    features['dominant_freq'] = fft_freq[dom_freq_idx]\n",
    "    for axis in ['x', 'y', 'z']:\n",
    "        features[f'energy_{axis}'] = np.mean(window[axis]**2)\n",
    "    return pd.Series(features).fillna(0)\n",
    "\n",
    "print(\"✅ Funciones de extracción de características (con Feature Engineering) definidas.\")"
   ]
  },
  {
   "cell_type": "code",
   "execution_count": 61,
   "id": "ce257269",
   "metadata": {},
   "outputs": [
    {
     "name": "stdout",
     "output_type": "stream",
     "text": [
      "Se crearán 8 grupos para procesar en paralelo.\n",
      "Procesando grupo: ('nexus4_1', 'accelerometer') con 2670808 registros...\n",
      "Procesando grupo: ('nexus4_2', 'accelerometer') con 2734424 registros...\n",
      "Procesando grupo: ('s3_1', 'accelerometer') con 1212820 registros...\n",
      "Procesando grupo: ('s3_2', 'accelerometer') con 1348811 registros...\n",
      "Procesando grupo: ('s3mini_2', 'accelerometer') con 81909 registros...\n",
      "Procesando grupo: ('s3mini_1', 'accelerometer') con 1336251 registros...\n",
      "Procesando grupo: ('samsungold_1', 'accelerometer') con 947918 registros...\n",
      "Procesando grupo: ('samsungold_2', 'accelerometer') con 946334 registros...\n",
      "Grupo ('s3mini_2', 'accelerometer') finalizado. Se extrajeron 638 ventanas.\n",
      "Grupo ('samsungold_1', 'accelerometer') finalizado. Se extrajeron 7404 ventanas.\n",
      "Grupo ('samsungold_2', 'accelerometer') finalizado. Se extrajeron 7392 ventanas.\n",
      "Grupo ('s3_1', 'accelerometer') finalizado. Se extrajeron 9474 ventanas.\n",
      "Grupo ('s3mini_1', 'accelerometer') finalizado. Se extrajeron 10438 ventanas.\n",
      "Grupo ('s3_2', 'accelerometer') finalizado. Se extrajeron 10536 ventanas.\n",
      "Grupo ('nexus4_1', 'accelerometer') finalizado. Se extrajeron 20864 ventanas.\n",
      "Grupo ('nexus4_2', 'accelerometer') finalizado. Se extrajeron 21361 ventanas.\n",
      "\n",
      "✅ Procesamiento en paralelo completado.\n",
      "Dimensiones de la matriz de características final: (88107, 20)\n"
     ]
    }
   ],
   "source": [
    "def create_windows_and_extract_features(data_key, device_sensor_df):\n",
    "    WINDOW_SIZE = 256\n",
    "    STEP = 128\n",
    "    if len(device_sensor_df) < WINDOW_SIZE:\n",
    "        # Devolver vacío si no hay suficientes datos\n",
    "        return pd.DataFrame(), np.array([]) \n",
    "    \n",
    "    features_list, labels_list = [], []\n",
    "    for start in range(0, len(device_sensor_df) - WINDOW_SIZE, STEP):\n",
    "        # --- LÍNEA CORREGIDA ---\n",
    "        # Esta línea faltaba y causaba el error.\n",
    "        end = start + WINDOW_SIZE\n",
    "        \n",
    "        window = device_sensor_df.iloc[start:end]\n",
    "        features = extract_features(window)\n",
    "        features['Device'] = data_key[0] # Añadir el nombre del dispositivo\n",
    "        features_list.append(features)\n",
    "        labels_list.append(mode(window['activity_code'], keepdims=True).mode[0])\n",
    "        \n",
    "    return pd.DataFrame(features_list), np.array(labels_list)\n",
    "\n",
    "def process_group(group):\n",
    "    key, data = group\n",
    "    # key es una tupla ('device_name', 'sensor_name')\n",
    "    print(f\"Procesando grupo: {key} con {len(data)} registros...\")\n",
    "    features_df, labels_array = create_windows_and_extract_features(key, data)\n",
    "    \n",
    "    # Adjuntar las etiquetas como una columna al dataframe de características\n",
    "    if not features_df.empty:\n",
    "        features_df['label'] = labels_array\n",
    "    print(f\"Grupo {key} finalizado. Se extrajeron {len(features_df)} ventanas.\")\n",
    "    return features_df\n",
    "\n",
    "# Ejecución del procesamiento en paralelo\n",
    "grouped_data = df.groupby(['Device', 'sensor'])\n",
    "print(f\"Se crearán {len(grouped_data)} grupos para procesar en paralelo.\")\n",
    "\n",
    "with Pool(cpu_count()) as pool:\n",
    "    results_df_list = pool.map(process_group, list(grouped_data))\n",
    "\n",
    "# Combinar todos los dataframes de características resultantes\n",
    "all_features_df = pd.concat(results_df_list, ignore_index=True)\n",
    "\n",
    "print(f\"\\n✅ Procesamiento en paralelo completado.\")\n",
    "print(f\"Dimensiones de la matriz de características final: {all_features_df.shape}\")"
   ]
  },
  {
   "cell_type": "code",
   "execution_count": 63,
   "id": "c537308c",
   "metadata": {},
   "outputs": [
    {
     "name": "stdout",
     "output_type": "stream",
     "text": [
      "Dimensiones del conjunto de entrenamiento: (70485, 19)\n",
      "Dimensiones del conjunto de prueba: (17622, 19)\n"
     ]
    }
   ],
   "source": [
    "# Separar características (X) de la etiqueta (y) y el identificador del dispositivo\n",
    "y = all_features_df['label']\n",
    "X = all_features_df.drop('label', axis=1)\n",
    "\n",
    "# Dividir en conjuntos de entrenamiento y prueba\n",
    "X_train, X_test, y_train, y_test = train_test_split(\n",
    "    X, y, test_size=0.2, random_state=42, stratify=y\n",
    ")\n",
    "\n",
    "print(\"Dimensiones del conjunto de entrenamiento:\", X_train.shape)\n",
    "print(\"Dimensiones del conjunto de prueba:\", X_test.shape)"
   ]
  },
  {
   "cell_type": "code",
   "execution_count": 64,
   "id": "862ff0e5",
   "metadata": {},
   "outputs": [
    {
     "name": "stdout",
     "output_type": "stream",
     "text": [
      "Iniciando el entrenamiento de un modelo por dispositivo...\n",
      "  -> Entrenando modelo para el dispositivo: nexus4_1...\n",
      "  -> Entrenando modelo para el dispositivo: nexus4_2...\n",
      "  -> Entrenando modelo para el dispositivo: s3_1...\n",
      "  -> Entrenando modelo para el dispositivo: s3_2...\n",
      "  -> Entrenando modelo para el dispositivo: s3mini_1...\n",
      "  -> Entrenando modelo para el dispositivo: s3mini_2...\n",
      "  -> Entrenando modelo para el dispositivo: samsungold_1...\n",
      "  -> Entrenando modelo para el dispositivo: samsungold_2...\n",
      "\n",
      "✅ Entrenamiento en paralelo completado. Se han entrenado 8 modelos.\n"
     ]
    }
   ],
   "source": [
    "# --- Entrenamiento Paralelo: Un Modelo SVM por Dispositivo ---\n",
    "models = {}\n",
    "train_data = pd.concat([X_train, y_train], axis=1)\n",
    "\n",
    "print(\"Iniciando el entrenamiento de un modelo por dispositivo...\")\n",
    "\n",
    "for device_name, group in train_data.groupby('Device'):\n",
    "    print(f\"  -> Entrenando modelo para el dispositivo: {device_name}...\")\n",
    "    \n",
    "    # Separar características y etiquetas para este grupo\n",
    "    y_group = group['label']\n",
    "    X_group = group.drop(['label', 'Device'], axis=1)\n",
    "    \n",
    "    # Crear y ajustar un escalador solo para los datos de este dispositivo\n",
    "    scaler = StandardScaler()\n",
    "    X_group_scaled = scaler.fit_transform(X_group)\n",
    "    \n",
    "    # Crear y entrenar el modelo SVM\n",
    "    svm = SVC(kernel='rbf', C=10, gamma='scale', random_state=42)\n",
    "    svm.fit(X_group_scaled, y_group)\n",
    "    \n",
    "    # Guardar el modelo entrenado y su escalador específico\n",
    "    models[device_name] = {'svm': svm, 'scaler': scaler}\n",
    "\n",
    "print(f\"\\n✅ Entrenamiento en paralelo completado. Se han entrenado {len(models)} modelos.\")"
   ]
  },
  {
   "cell_type": "code",
   "execution_count": 65,
   "id": "7deb138a",
   "metadata": {},
   "outputs": [
    {
     "name": "stdout",
     "output_type": "stream",
     "text": [
      "Realizando predicciones con cada modelo...\n",
      "  -> Predicciones del modelo 'nexus4_1' generadas.\n",
      "  -> Predicciones del modelo 'nexus4_2' generadas.\n",
      "  -> Predicciones del modelo 's3_1' generadas.\n",
      "  -> Predicciones del modelo 's3_2' generadas.\n",
      "  -> Predicciones del modelo 's3mini_1' generadas.\n",
      "  -> Predicciones del modelo 's3mini_2' generadas.\n",
      "  -> Predicciones del modelo 'samsungold_1' generadas.\n",
      "  -> Predicciones del modelo 'samsungold_2' generadas.\n",
      "\n",
      "✅ Votación mayoritaria completada.\n",
      "\n",
      "🎯 Precisión (Accuracy) del modelo de ensamble: 85.78%\n",
      "\n",
      "📋 Reporte de Clasificación:\n",
      "              precision    recall  f1-score   support\n",
      "\n",
      "        bike       0.90      0.96      0.93      2882\n",
      "         sit       0.90      0.92      0.91      3113\n",
      "  stairsdown       0.76      0.81      0.78      2526\n",
      "    stairsup       0.80      0.76      0.78      2783\n",
      "       stand       0.91      0.93      0.92      2892\n",
      "        walk       0.86      0.77      0.81      3426\n",
      "\n",
      "    accuracy                           0.86     17622\n",
      "   macro avg       0.85      0.86      0.86     17622\n",
      "weighted avg       0.86      0.86      0.86     17622\n",
      "\n",
      "\n",
      "📊 Matriz de Confusión:\n"
     ]
    },
    {
     "data": {
      "image/png": "[encoded data removed]",
      "text/plain": [
       "<Figure size 1000x800 with 2 Axes>"
      ]
     },
     "metadata": {},
     "output_type": "display_data"
    }
   ],
   "source": [
    "# --- Predicción y Evaluación con Votación Mayoritaria ---\n",
    "all_predictions = []\n",
    "X_test_features = X_test.drop('Device', axis=1)\n",
    "\n",
    "print(\"Realizando predicciones con cada modelo...\")\n",
    "\n",
    "for device_name, model_data in models.items():\n",
    "    # Obtener el modelo y el escalador para este dispositivo\n",
    "    svm = model_data['svm']\n",
    "    scaler = model_data['scaler']\n",
    "    \n",
    "    # Escalar el conjunto de prueba COMPLETO con el escalador de este modelo\n",
    "    X_test_scaled = scaler.transform(X_test_features)\n",
    "    \n",
    "    # Obtener predicciones de este modelo\n",
    "    preds = svm.predict(X_test_scaled)\n",
    "    all_predictions.append(preds)\n",
    "    print(f\"  -> Predicciones del modelo '{device_name}' generadas.\")\n",
    "\n",
    "# Convertir la lista de predicciones en una matriz (cada columna es un modelo)\n",
    "predictions_matrix = np.array(all_predictions).T\n",
    "\n",
    "# Votación mayoritaria: encontrar la moda (la predicción más común) para cada fila\n",
    "y_pred_voted, _ = mode(predictions_matrix, axis=1, keepdims=False)\n",
    "print(\"\\n✅ Votación mayoritaria completada.\")\n",
    "\n",
    "# --- Evaluación del Desempeño ---\n",
    "accuracy = accuracy_score(y_test, y_pred_voted)\n",
    "report = classification_report(y_test, y_pred_voted, target_names=le.classes_)\n",
    "\n",
    "print(f\"\\n🎯 Precisión (Accuracy) del modelo de ensamble: {accuracy * 100:.2f}%\")\n",
    "print(\"\\n📋 Reporte de Clasificación:\")\n",
    "print(report)\n",
    "\n",
    "# Visualizar la Matriz de Confusión\n",
    "print(\"\\n📊 Matriz de Confusión:\")\n",
    "cm = confusion_matrix(y_test, y_pred_voted)\n",
    "plt.figure(figsize=(10, 8))\n",
    "sns.heatmap(cm, annot=True, fmt='d', cmap='Blues', xticklabels=le.classes_, yticklabels=le.classes_)\n",
    "plt.title('Matriz de Confusión (con Votación Mayoritaria)')\n",
    "plt.ylabel('Etiqueta Verdadera')\n",
    "plt.xlabel('Etiqueta Predicha')\n",
    "plt.show()"
   ]
  }
 ],
 "metadata": {
  "kernelspec": {
   "display_name": "Python 3 (ipykernel)",
   "language": "python",
   "name": "python3"
  },
  "language_info": {
   "codemirror_mode": {
    "name": "ipython",
    "version": 3
   },
   "file_extension": ".py",
   "mimetype": "text/x-python",
   "name": "python",
   "nbconvert_exporter": "python",
   "pygments_lexer": "ipython3",
   "version": "3.12.3"
  }
 },
 "nbformat": 4,
 "nbformat_minor": 5
}
